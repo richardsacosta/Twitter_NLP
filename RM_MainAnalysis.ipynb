{
 "cells": [
  {
   "cell_type": "code",
   "execution_count": 1,
   "id": "77bd6812",
   "metadata": {},
   "outputs": [],
   "source": [
    "import pandas as pd\n",
    "pd.set_option(\"display.max_columns\", None)\n",
    "pd.set_option(\"display.max_rows\", None)\n",
    "pd.set_option('display.max_colwidth', None)\n",
    "pd.set_option(\"display.max_rows\", None)"
   ]
  },
  {
   "cell_type": "code",
   "execution_count": 2,
   "id": "cb916af1",
   "metadata": {},
   "outputs": [],
   "source": [
    "df = pd.read_csv('Ukraine_tweetys.txt')"
   ]
  },
  {
   "cell_type": "code",
   "execution_count": 3,
   "id": "cc4e9eb2",
   "metadata": {},
   "outputs": [],
   "source": [
    "df = df.drop_duplicates()"
   ]
  },
  {
   "cell_type": "code",
   "execution_count": 4,
   "id": "913f0461",
   "metadata": {},
   "outputs": [
    {
     "data": {
      "text/html": [
       "<div>\n",
       "<style scoped>\n",
       "    .dataframe tbody tr th:only-of-type {\n",
       "        vertical-align: middle;\n",
       "    }\n",
       "\n",
       "    .dataframe tbody tr th {\n",
       "        vertical-align: top;\n",
       "    }\n",
       "\n",
       "    .dataframe thead th {\n",
       "        text-align: right;\n",
       "    }\n",
       "</style>\n",
       "<table border=\"1\" class=\"dataframe\">\n",
       "  <thead>\n",
       "    <tr style=\"text-align: right;\">\n",
       "      <th></th>\n",
       "      <th>Unnamed: 0.1</th>\n",
       "      <th>Unnamed: 0</th>\n",
       "      <th>Datetime</th>\n",
       "      <th>Tweet Id</th>\n",
       "      <th>Text</th>\n",
       "      <th>Username</th>\n",
       "      <th>location</th>\n",
       "      <th>reply count</th>\n",
       "      <th>retweet count</th>\n",
       "      <th>like count</th>\n",
       "      <th>language</th>\n",
       "      <th>Twitter Access Point</th>\n",
       "      <th>Follower Count</th>\n",
       "      <th>Friends Count</th>\n",
       "      <th>verified</th>\n",
       "    </tr>\n",
       "  </thead>\n",
       "  <tbody>\n",
       "    <tr>\n",
       "      <th>0</th>\n",
       "      <td>0</td>\n",
       "      <td>0</td>\n",
       "      <td>2022-03-14 23:59:59+00:00</td>\n",
       "      <td>1503521353869438976</td>\n",
       "      <td>@GicAriana The writing on her sign was mostly in Russian. We understand your frustration and anger, but please don't dismiss how important this single act could be in changing the situation for Ukraine. A single breath... can bring down a house of cards.</td>\n",
       "      <td>xsryder</td>\n",
       "      <td>Hamilton City, New Zealand</td>\n",
       "      <td>2</td>\n",
       "      <td>3</td>\n",
       "      <td>67</td>\n",
       "      <td>en</td>\n",
       "      <td>Twitter for Android</td>\n",
       "      <td>40</td>\n",
       "      <td>153</td>\n",
       "      <td>False</td>\n",
       "    </tr>\n",
       "    <tr>\n",
       "      <th>1</th>\n",
       "      <td>1</td>\n",
       "      <td>1</td>\n",
       "      <td>2022-03-14 23:59:59+00:00</td>\n",
       "      <td>1503521353558749184</td>\n",
       "      <td>@blakandblack We scream at Putin for using the bullshit lie that he's there to save the people of Ukraine when that's exactly what we did in every war since WWII.  Blind hypocrisy.\\n\\nYelling \"oi, prick, that's our gig\" would have more authenticity.</td>\n",
       "      <td>DArtagnan71</td>\n",
       "      <td>Perth, WA</td>\n",
       "      <td>1</td>\n",
       "      <td>1</td>\n",
       "      <td>2</td>\n",
       "      <td>en</td>\n",
       "      <td>Twitter for Android</td>\n",
       "      <td>379</td>\n",
       "      <td>548</td>\n",
       "      <td>False</td>\n",
       "    </tr>\n",
       "    <tr>\n",
       "      <th>2</th>\n",
       "      <td>2</td>\n",
       "      <td>2</td>\n",
       "      <td>2022-03-14 23:59:58+00:00</td>\n",
       "      <td>1503521350023004161</td>\n",
       "      <td>@WayneDupreeShow Really? Those tax breaks for the rich, the pandemic, the ineffectual China deal, handing Syria over to Russia, Ukraine, yes he did a lot. The big lie, the insurrection.</td>\n",
       "      <td>momotaro78sg</td>\n",
       "      <td>NaN</td>\n",
       "      <td>0</td>\n",
       "      <td>0</td>\n",
       "      <td>0</td>\n",
       "      <td>en</td>\n",
       "      <td>Twitter Web App</td>\n",
       "      <td>2</td>\n",
       "      <td>5</td>\n",
       "      <td>False</td>\n",
       "    </tr>\n",
       "    <tr>\n",
       "      <th>3</th>\n",
       "      <td>3</td>\n",
       "      <td>3</td>\n",
       "      <td>2022-03-14 23:59:58+00:00</td>\n",
       "      <td>1503521349456707584</td>\n",
       "      <td>Wha matters is identity, self-identity. I imagine there are far fewer people in Ukraine willing to self-identify as Russian today. Those that did before are today probably ashamed of any association with Russia, international pariah. https://t.co/5jxLAFZNIB</td>\n",
       "      <td>lingosteve</td>\n",
       "      <td>West Vancouver</td>\n",
       "      <td>0</td>\n",
       "      <td>1</td>\n",
       "      <td>12</td>\n",
       "      <td>en</td>\n",
       "      <td>Twitter Web App</td>\n",
       "      <td>15750</td>\n",
       "      <td>457</td>\n",
       "      <td>False</td>\n",
       "    </tr>\n",
       "    <tr>\n",
       "      <th>4</th>\n",
       "      <td>4</td>\n",
       "      <td>4</td>\n",
       "      <td>2022-03-14 23:59:58+00:00</td>\n",
       "      <td>1503521347942719489</td>\n",
       "      <td>@itsprincessrati Ba go ise Ukraine 💔😭😭</td>\n",
       "      <td>myltshepo</td>\n",
       "      <td>the gutter</td>\n",
       "      <td>1</td>\n",
       "      <td>0</td>\n",
       "      <td>0</td>\n",
       "      <td>en</td>\n",
       "      <td>Twitter for Android</td>\n",
       "      <td>1566</td>\n",
       "      <td>4299</td>\n",
       "      <td>False</td>\n",
       "    </tr>\n",
       "  </tbody>\n",
       "</table>\n",
       "</div>"
      ],
      "text/plain": [
       "   Unnamed: 0.1  Unnamed: 0                   Datetime             Tweet Id  \\\n",
       "0             0           0  2022-03-14 23:59:59+00:00  1503521353869438976   \n",
       "1             1           1  2022-03-14 23:59:59+00:00  1503521353558749184   \n",
       "2             2           2  2022-03-14 23:59:58+00:00  1503521350023004161   \n",
       "3             3           3  2022-03-14 23:59:58+00:00  1503521349456707584   \n",
       "4             4           4  2022-03-14 23:59:58+00:00  1503521347942719489   \n",
       "\n",
       "                                                                                                                                                                                                                                                                Text  \\\n",
       "0     @GicAriana The writing on her sign was mostly in Russian. We understand your frustration and anger, but please don't dismiss how important this single act could be in changing the situation for Ukraine. A single breath... can bring down a house of cards.   \n",
       "1          @blakandblack We scream at Putin for using the bullshit lie that he's there to save the people of Ukraine when that's exactly what we did in every war since WWII.  Blind hypocrisy.\\n\\nYelling \"oi, prick, that's our gig\" would have more authenticity.   \n",
       "2                                                                          @WayneDupreeShow Really? Those tax breaks for the rich, the pandemic, the ineffectual China deal, handing Syria over to Russia, Ukraine, yes he did a lot. The big lie, the insurrection.   \n",
       "3  Wha matters is identity, self-identity. I imagine there are far fewer people in Ukraine willing to self-identify as Russian today. Those that did before are today probably ashamed of any association with Russia, international pariah. https://t.co/5jxLAFZNIB   \n",
       "4                                                                                                                                                                                                                             @itsprincessrati Ba go ise Ukraine 💔😭😭   \n",
       "\n",
       "       Username                    location  reply count  retweet count  \\\n",
       "0       xsryder  Hamilton City, New Zealand            2              3   \n",
       "1   DArtagnan71                   Perth, WA            1              1   \n",
       "2  momotaro78sg                         NaN            0              0   \n",
       "3    lingosteve              West Vancouver            0              1   \n",
       "4     myltshepo                 the gutter             1              0   \n",
       "\n",
       "   like count language Twitter Access Point  Follower Count   Friends Count  \\\n",
       "0          67       en  Twitter for Android              40             153   \n",
       "1           2       en  Twitter for Android             379             548   \n",
       "2           0       en      Twitter Web App               2               5   \n",
       "3          12       en      Twitter Web App           15750             457   \n",
       "4           0       en  Twitter for Android            1566            4299   \n",
       "\n",
       "   verified  \n",
       "0     False  \n",
       "1     False  \n",
       "2     False  \n",
       "3     False  \n",
       "4     False  "
      ]
     },
     "execution_count": 4,
     "metadata": {},
     "output_type": "execute_result"
    }
   ],
   "source": [
    "df.head()"
   ]
  },
  {
   "cell_type": "code",
   "execution_count": 5,
   "id": "60652b7d",
   "metadata": {},
   "outputs": [],
   "source": [
    "# Extract languages used in the dataset\n",
    "df_lan = df.groupby('language').count()\n",
    "df_lan.to_excel('ukrainelanguagedf.xlsx')"
   ]
  },
  {
   "cell_type": "code",
   "execution_count": 6,
   "id": "3b07851e",
   "metadata": {},
   "outputs": [],
   "source": [
    "# Find tweets in English only\n",
    "df_en = df[df['language']=='en']"
   ]
  },
  {
   "cell_type": "code",
   "execution_count": 8,
   "id": "0ca0d56a",
   "metadata": {},
   "outputs": [],
   "source": [
    "# Remove unnecessary columns\n",
    "df_en_clean = df_en.drop(columns = ['Tweet Id','Unnamed: 0','Unnamed: 0.1','verified'], axis  = 1)"
   ]
  },
  {
   "cell_type": "code",
   "execution_count": 11,
   "id": "f4bd405b",
   "metadata": {},
   "outputs": [
    {
     "data": {
      "text/html": [
       "<div>\n",
       "<style scoped>\n",
       "    .dataframe tbody tr th:only-of-type {\n",
       "        vertical-align: middle;\n",
       "    }\n",
       "\n",
       "    .dataframe tbody tr th {\n",
       "        vertical-align: top;\n",
       "    }\n",
       "\n",
       "    .dataframe thead th {\n",
       "        text-align: right;\n",
       "    }\n",
       "</style>\n",
       "<table border=\"1\" class=\"dataframe\">\n",
       "  <thead>\n",
       "    <tr style=\"text-align: right;\">\n",
       "      <th></th>\n",
       "      <th>username</th>\n",
       "      <th>counts</th>\n",
       "    </tr>\n",
       "  </thead>\n",
       "  <tbody>\n",
       "    <tr>\n",
       "      <th>0</th>\n",
       "      <td>StopVladdyDaddy</td>\n",
       "      <td>2422</td>\n",
       "    </tr>\n",
       "    <tr>\n",
       "      <th>1</th>\n",
       "      <td>TheAnswerYes</td>\n",
       "      <td>853</td>\n",
       "    </tr>\n",
       "    <tr>\n",
       "      <th>2</th>\n",
       "      <td>AndyVermaut</td>\n",
       "      <td>698</td>\n",
       "    </tr>\n",
       "    <tr>\n",
       "      <th>3</th>\n",
       "      <td>BwcDeals</td>\n",
       "      <td>620</td>\n",
       "    </tr>\n",
       "    <tr>\n",
       "      <th>4</th>\n",
       "      <td>usasharenews</td>\n",
       "      <td>456</td>\n",
       "    </tr>\n",
       "  </tbody>\n",
       "</table>\n",
       "</div>"
      ],
      "text/plain": [
       "          username  counts\n",
       "0  StopVladdyDaddy    2422\n",
       "1     TheAnswerYes     853\n",
       "2      AndyVermaut     698\n",
       "3         BwcDeals     620\n",
       "4     usasharenews     456"
      ]
     },
     "execution_count": 11,
     "metadata": {},
     "output_type": "execute_result"
    }
   ],
   "source": [
    "import matplotlib.pyplot as plt\n",
    "usename_df = pd.DataFrame()\n",
    "username_df = df_en_clean['Username'].value_counts().rename_axis('username').reset_index(name='counts')\n",
    "username_df.head()"
   ]
  },
  {
   "cell_type": "code",
   "execution_count": 13,
   "id": "46d49f10",
   "metadata": {},
   "outputs": [
    {
     "data": {
      "text/plain": [
       "([<matplotlib.axis.XTick at 0x7f99935da640>,\n",
       "  <matplotlib.axis.XTick at 0x7f99935da610>,\n",
       "  <matplotlib.axis.XTick at 0x7f99935da520>,\n",
       "  <matplotlib.axis.XTick at 0x7f999361ea30>,\n",
       "  <matplotlib.axis.XTick at 0x7f9993627520>,\n",
       "  <matplotlib.axis.XTick at 0x7f9993627fd0>,\n",
       "  <matplotlib.axis.XTick at 0x7f999362cac0>,\n",
       "  <matplotlib.axis.XTick at 0x7f993000a5b0>,\n",
       "  <matplotlib.axis.XTick at 0x7f99936083a0>,\n",
       "  <matplotlib.axis.XTick at 0x7f993000aac0>],\n",
       " [Text(0, 0, '1'),\n",
       "  Text(1, 0, '2'),\n",
       "  Text(2, 0, '3'),\n",
       "  Text(3, 0, '4'),\n",
       "  Text(4, 0, '5'),\n",
       "  Text(5, 0, '6'),\n",
       "  Text(6, 0, '7'),\n",
       "  Text(7, 0, '8'),\n",
       "  Text(8, 0, '9'),\n",
       "  Text(9, 0, '10')])"
      ]
     },
     "execution_count": 13,
     "metadata": {},
     "output_type": "execute_result"
    },
    {
     "data": {
      "image/png": "[encoded data removed]",
      "text/plain": [
       "<Figure size 640x480 with 1 Axes>"
      ]
     },
     "metadata": {},
     "output_type": "display_data"
    }
   ],
   "source": [
    "import numpy as np\n",
    "height = [247891,  56181,  23446,  12590,   7374,   4994,   3330,\n",
    "          2474,   1886,   1410]\n",
    "bars = ('1', '2', '3', '4', '5','6','7','8','9',10)\n",
    "x_pos = np.arange(len(bars))\n",
    " \n",
    "# Create bars and choose color\n",
    "plt.bar(x_pos, height, color = (0.5,0.1,0.5,0.6))\n",
    " \n",
    "# Add title and axis names\n",
    "plt.title('Histogram of number of tweets per username')\n",
    "plt.xlabel('Number of tweets per username')\n",
    "plt.ylabel('Number of user')\n",
    " \n",
    "# Create names on the x axis\n",
    "plt.xticks(x_pos, bars)"
   ]
  },
  {
   "cell_type": "code",
   "execution_count": 14,
   "id": "b76a48a9",
   "metadata": {},
   "outputs": [
    {
     "data": {
      "image/png": "[encoded data removed]",
      "text/plain": [
       "<Figure size 640x480 with 1 Axes>"
      ]
     },
     "metadata": {},
     "output_type": "display_data"
    }
   ],
   "source": [
    "usernames = username_df['username'].head(10)\n",
    "tweet_counts = username_df['counts'].head(10)\n",
    "\n",
    "x_pos = np.arange(len(usernames))\n",
    "plt.bar(x_pos, tweet_counts, align='center', color = (0.5,0.1,0.5,0.6))\n",
    "plt.xticks(x_pos, usernames, rotation=90)\n",
    "plt.xlabel('Username')\n",
    "plt.ylabel('Number of Tweets')\n",
    "plt.title('Top 10 Usernames with Most Tweets')\n",
    "\n",
    "plt.show()"
   ]
  },
  {
   "cell_type": "code",
   "execution_count": 19,
   "id": "03698db3",
   "metadata": {},
   "outputs": [],
   "source": [
    "df_en_clean.to_csv('cleaned_tweets.csv')"
   ]
  },
  {
   "cell_type": "markdown",
   "id": "20d38d8c",
   "metadata": {},
   "source": [
    "## Tweets from Russia location"
   ]
  },
  {
   "cell_type": "code",
   "execution_count": 20,
   "id": "0863b69d",
   "metadata": {},
   "outputs": [],
   "source": [
    "import numpy as np\n",
    "position = 0\n",
    "positions = []\n",
    "for location in df_en_clean.location:\n",
    "    if type(location) != float:\n",
    "        location = location.lower().split()\n",
    "        if 'russia' in location and 'us' not in location and 'not' not in location and 'but' not in location:\n",
    "            positions.append(position)\n",
    "    else:\n",
    "        pass\n",
    "    position = position + 1"
   ]
  },
  {
   "cell_type": "code",
   "execution_count": 21,
   "id": "7c7fa036",
   "metadata": {},
   "outputs": [
    {
     "data": {
      "text/plain": [
       "'Moscow, Russia'"
      ]
     },
     "execution_count": 21,
     "metadata": {},
     "output_type": "execute_result"
    }
   ],
   "source": [
    "df_en_clean.iloc[positions[1],3]"
   ]
  },
  {
   "cell_type": "code",
   "execution_count": 22,
   "id": "989d5ec8",
   "metadata": {},
   "outputs": [],
   "source": [
    "df_russia_en = pd.DataFrame()\n",
    "for position in positions:\n",
    "    entry = df_en_clean.iloc[position,:]\n",
    "    #print(row)\n",
    "    df_russia_en= pd.concat([df_russia_en,entry],axis = 1)\n",
    "    #row_2 = df.loc[1].copy()  "
   ]
  },
  {
   "cell_type": "code",
   "execution_count": 23,
   "id": "9f64b427",
   "metadata": {},
   "outputs": [],
   "source": [
    "df_russia_en = df_russia_en.transpose()"
   ]
  },
  {
   "cell_type": "code",
   "execution_count": 26,
   "id": "2968f152",
   "metadata": {},
   "outputs": [],
   "source": [
    "df_russia_en.to_csv('Russia_loc.csv')"
   ]
  },
  {
   "cell_type": "markdown",
   "id": "70b71f83",
   "metadata": {},
   "source": [
    "## Tweets from Ukraine location"
   ]
  },
  {
   "cell_type": "code",
   "execution_count": 27,
   "id": "f2ff747b",
   "metadata": {},
   "outputs": [
    {
     "name": "stdout",
     "output_type": "stream",
     "text": [
      "Datetime                                              2022-03-14 23:59:46+00:00\n",
      "Text                    @franch_laura Thank you for supporting our Ukraine 💙💛🙏🏻\n",
      "Username                                                           litsarkisian\n",
      "location                                                                Ukraine\n",
      "reply count                                                                   1\n",
      "retweet count                                                                 0\n",
      "like count                                                                    0\n",
      "language                                                                     en\n",
      "Twitter Access Point                                         Twitter for iPhone\n",
      "Follower Count                                                             1243\n",
      " Friends Count                                                               25\n",
      "Name: 52, dtype: object\n"
     ]
    }
   ],
   "source": [
    "import numpy as np\n",
    "position = 0\n",
    "positions = []\n",
    "for location in df_en_clean.location:\n",
    "    if type(location) != float:\n",
    "        location = location.lower().split()\n",
    "        if ('ukraine' in location and 'taxpayer' not in location and\\\n",
    "            'and' not in location and 'in' not in location\\\n",
    "            and 'us' not in location and 'stand' not in location\\\n",
    "            and 'is' not in location and 'free' not in location\\\n",
    "           and 'earth' not in location and 'uk' not in location\\\n",
    "            and 'with' not in location and 'germany' not in location\\\n",
    "           and 'ireland' not in location and 'to' not in location\\\n",
    "           and 'support' not in location and 'ca' not in location\\\n",
    "           and 'ny' not in location and 'all' not in location\\\n",
    "           and 'or' not in location and 'denmark' not in location):\n",
    "            positions.append(position)\n",
    "    else:\n",
    "        pass\n",
    "    position = position + 1\n",
    "print(df_en_clean.iloc[positions[0],:])"
   ]
  },
  {
   "cell_type": "code",
   "execution_count": 28,
   "id": "8e6e44c8",
   "metadata": {},
   "outputs": [],
   "source": [
    "df_ukraine_en = pd.DataFrame()\n",
    "for position in positions:\n",
    "    entry = df_en_clean.iloc[position,:]\n",
    "    #print(entry.location)\n",
    "    df_ukraine_en = pd.concat([df_ukraine_en,entry],axis = 1)"
   ]
  },
  {
   "cell_type": "code",
   "execution_count": 29,
   "id": "6f84154e",
   "metadata": {},
   "outputs": [],
   "source": [
    "df_ukraine_en = df_ukraine_en.transpose()"
   ]
  },
  {
   "cell_type": "code",
   "execution_count": 30,
   "id": "a585b82d",
   "metadata": {},
   "outputs": [
    {
     "data": {
      "text/plain": [
       "(7087, 11)"
      ]
     },
     "execution_count": 30,
     "metadata": {},
     "output_type": "execute_result"
    }
   ],
   "source": [
    "df_ukraine_en.shape"
   ]
  },
  {
   "cell_type": "code",
   "execution_count": 31,
   "id": "61ced281",
   "metadata": {},
   "outputs": [
    {
     "data": {
      "text/html": [
       "<div>\n",
       "<style scoped>\n",
       "    .dataframe tbody tr th:only-of-type {\n",
       "        vertical-align: middle;\n",
       "    }\n",
       "\n",
       "    .dataframe tbody tr th {\n",
       "        vertical-align: top;\n",
       "    }\n",
       "\n",
       "    .dataframe thead th {\n",
       "        text-align: right;\n",
       "    }\n",
       "</style>\n",
       "<table border=\"1\" class=\"dataframe\">\n",
       "  <thead>\n",
       "    <tr style=\"text-align: right;\">\n",
       "      <th></th>\n",
       "      <th>Datetime</th>\n",
       "      <th>Text</th>\n",
       "      <th>Username</th>\n",
       "      <th>location</th>\n",
       "      <th>reply count</th>\n",
       "      <th>retweet count</th>\n",
       "      <th>like count</th>\n",
       "      <th>language</th>\n",
       "      <th>Twitter Access Point</th>\n",
       "      <th>Follower Count</th>\n",
       "      <th>Friends Count</th>\n",
       "    </tr>\n",
       "  </thead>\n",
       "  <tbody>\n",
       "    <tr>\n",
       "      <th>52</th>\n",
       "      <td>2022-03-14 23:59:46+00:00</td>\n",
       "      <td>@franch_laura Thank you for supporting our Ukraine 💙💛🙏🏻</td>\n",
       "      <td>litsarkisian</td>\n",
       "      <td>Ukraine</td>\n",
       "      <td>1</td>\n",
       "      <td>0</td>\n",
       "      <td>0</td>\n",
       "      <td>en</td>\n",
       "      <td>Twitter for iPhone</td>\n",
       "      <td>1243</td>\n",
       "      <td>25</td>\n",
       "    </tr>\n",
       "    <tr>\n",
       "      <th>236</th>\n",
       "      <td>2022-03-14 23:59:04+00:00</td>\n",
       "      <td>To all friends of Ukraine, in all countries: go to protests! Please claim your government to close the sky, they can't do this without the request of their people! Democracy works like that!\\n\\n#UkraineWar #CloseTheSky #UkraineRussiaWar #StopPutin #Ukrainian https://t.co/bR2nSQUi7e</td>\n",
       "      <td>goldraga</td>\n",
       "      <td>Kharkiv, Ukraine</td>\n",
       "      <td>0</td>\n",
       "      <td>1</td>\n",
       "      <td>2</td>\n",
       "      <td>en</td>\n",
       "      <td>Twitter Web App</td>\n",
       "      <td>6</td>\n",
       "      <td>18</td>\n",
       "    </tr>\n",
       "    <tr>\n",
       "      <th>619</th>\n",
       "      <td>2022-03-14 23:57:26+00:00</td>\n",
       "      <td>Ukrainian BM-21 Grad MLRS firing on Russian positions. https://t.co/oBiA5XtVlh via @YouTube Ukraine War today Russia #Kyiv #Mauripol #DonbassUkraine  @Ukrainewartoday</td>\n",
       "      <td>Ukrainewartoday</td>\n",
       "      <td>Ukraine</td>\n",
       "      <td>0</td>\n",
       "      <td>0</td>\n",
       "      <td>0</td>\n",
       "      <td>en</td>\n",
       "      <td>Twitter Web App</td>\n",
       "      <td>278</td>\n",
       "      <td>159</td>\n",
       "    </tr>\n",
       "    <tr>\n",
       "      <th>693</th>\n",
       "      <td>2022-03-14 23:57:09+00:00</td>\n",
       "      <td>@AndrzejDuda @ZelenskyyUa We need fighter jets and anti-aircraft systems. Don't let Ukraine lose this war.</td>\n",
       "      <td>tethys1100</td>\n",
       "      <td>Ukraine</td>\n",
       "      <td>0</td>\n",
       "      <td>0</td>\n",
       "      <td>0</td>\n",
       "      <td>en</td>\n",
       "      <td>Twitter for Android</td>\n",
       "      <td>115</td>\n",
       "      <td>240</td>\n",
       "    </tr>\n",
       "    <tr>\n",
       "      <th>704</th>\n",
       "      <td>2022-03-14 23:57:06+00:00</td>\n",
       "      <td>Ambushed Russian Military Convoy! https://t.co/5JIn2mhqyt via @YouTube Ukraine War today Russia #Ukrajina #rat #Ukrajna @Ukrainewartoday</td>\n",
       "      <td>Ukrainewartoday</td>\n",
       "      <td>Ukraine</td>\n",
       "      <td>0</td>\n",
       "      <td>0</td>\n",
       "      <td>1</td>\n",
       "      <td>en</td>\n",
       "      <td>Twitter Web App</td>\n",
       "      <td>278</td>\n",
       "      <td>159</td>\n",
       "    </tr>\n",
       "  </tbody>\n",
       "</table>\n",
       "</div>"
      ],
      "text/plain": [
       "                      Datetime  \\\n",
       "52   2022-03-14 23:59:46+00:00   \n",
       "236  2022-03-14 23:59:04+00:00   \n",
       "619  2022-03-14 23:57:26+00:00   \n",
       "693  2022-03-14 23:57:09+00:00   \n",
       "704  2022-03-14 23:57:06+00:00   \n",
       "\n",
       "                                                                                                                                                                                                                                                                                           Text  \\\n",
       "52                                                                                                                                                                                                                                      @franch_laura Thank you for supporting our Ukraine 💙💛🙏🏻   \n",
       "236  To all friends of Ukraine, in all countries: go to protests! Please claim your government to close the sky, they can't do this without the request of their people! Democracy works like that!\\n\\n#UkraineWar #CloseTheSky #UkraineRussiaWar #StopPutin #Ukrainian https://t.co/bR2nSQUi7e   \n",
       "619                                                                                                                      Ukrainian BM-21 Grad MLRS firing on Russian positions. https://t.co/oBiA5XtVlh via @YouTube Ukraine War today Russia #Kyiv #Mauripol #DonbassUkraine  @Ukrainewartoday   \n",
       "693                                                                                                                                                                                  @AndrzejDuda @ZelenskyyUa We need fighter jets and anti-aircraft systems. Don't let Ukraine lose this war.   \n",
       "704                                                                                                                                                    Ambushed Russian Military Convoy! https://t.co/5JIn2mhqyt via @YouTube Ukraine War today Russia #Ukrajina #rat #Ukrajna @Ukrainewartoday   \n",
       "\n",
       "            Username          location reply count retweet count like count  \\\n",
       "52      litsarkisian           Ukraine           1             0          0   \n",
       "236         goldraga  Kharkiv, Ukraine           0             1          2   \n",
       "619  Ukrainewartoday           Ukraine           0             0          0   \n",
       "693       tethys1100           Ukraine           0             0          0   \n",
       "704  Ukrainewartoday           Ukraine           0             0          1   \n",
       "\n",
       "    language Twitter Access Point Follower Count  Friends Count  \n",
       "52        en   Twitter for iPhone           1243             25  \n",
       "236       en      Twitter Web App              6             18  \n",
       "619       en      Twitter Web App            278            159  \n",
       "693       en  Twitter for Android            115            240  \n",
       "704       en      Twitter Web App            278            159  "
      ]
     },
     "execution_count": 31,
     "metadata": {},
     "output_type": "execute_result"
    }
   ],
   "source": [
    "df_ukraine_en.head()"
   ]
  },
  {
   "cell_type": "code",
   "execution_count": 33,
   "id": "f451b18e",
   "metadata": {},
   "outputs": [],
   "source": [
    "df_ukraine_en.to_csv('Ukraine_loc.csv')"
   ]
  },
  {
   "cell_type": "code",
   "execution_count": 34,
   "id": "ae72af97",
   "metadata": {},
   "outputs": [
    {
     "data": {
      "image/png": "[encoded data removed]",
      "text/plain": [
       "<Figure size 640x480 with 1 Axes>"
      ]
     },
     "metadata": {},
     "output_type": "display_data"
    }
   ],
   "source": [
    "import matplotlib.pyplot as plt\n",
    "\n",
    "tweet_counts = [len(df_russia_en), len(df_ukraine_en)]\n",
    "labels = ['Russia', 'Ukraine']\n",
    "\n",
    "# Add tweet counts to labels\n",
    "for i in range(len(labels)):\n",
    "    labels[i] += ' ({:,d})'.format(tweet_counts[i])\n",
    "\n",
    "plt.pie(tweet_counts, labels=labels, autopct='%1.1f%%')\n",
    "plt.axis('equal')\n",
    "plt.title('Number of Tweets by Region')\n",
    "\n",
    "plt.show()"
   ]
  },
  {
   "cell_type": "markdown",
   "id": "35f78bae",
   "metadata": {},
   "source": [
    "## High impact tweets (like, retweet and reply > 1)"
   ]
  },
  {
   "cell_type": "code",
   "execution_count": 38,
   "id": "b75d3a86",
   "metadata": {},
   "outputs": [
    {
     "data": {
      "text/plain": [
       "(36279, 11)"
      ]
     },
     "execution_count": 38,
     "metadata": {},
     "output_type": "execute_result"
    }
   ],
   "source": [
    "df_en_highimpact = df_en_clean[df_en_clean['like count'] > 1]\n",
    "df_en_highimpact = df_en_highimpact[df_en_highimpact['retweet count']>1]\n",
    "df_en_highimpact = df_en_highimpact[df_en_highimpact['reply count']>1]\n",
    "df_en_highimpact.shape"
   ]
  },
  {
   "cell_type": "code",
   "execution_count": 39,
   "id": "ddab3412",
   "metadata": {},
   "outputs": [
    {
     "data": {
      "image/png": "[encoded data removed]",
      "text/plain": [
       "<Figure size 640x480 with 1 Axes>"
      ]
     },
     "metadata": {},
     "output_type": "display_data"
    }
   ],
   "source": [
    "import matplotlib.pyplot as plt\n",
    "\n",
    "high_impact_tweets_count = len(df_en_highimpact)\n",
    "non_high_impact_tweets_count = len(df_en_clean)-len(df_en_highimpact)\n",
    "\n",
    "tweet_counts = [high_impact_tweets_count, non_high_impact_tweets_count]\n",
    "labels = ['High Impact Tweets', 'Non-High Impact Tweets']\n",
    "\n",
    "# Add tweet counts to labels\n",
    "for i in range(len(labels)):\n",
    "    labels[i] += ' ({:,d})'.format(tweet_counts[i])\n",
    "\n",
    "plt.pie(tweet_counts, labels=labels, autopct='%1.1f%%', textprops={'fontsize': 12})\n",
    "plt.axis('equal')\n",
    "plt.title('Number of Tweets')\n",
    "\n",
    "plt.show()"
   ]
  },
  {
   "cell_type": "code",
   "execution_count": 40,
   "id": "c07fe1a4",
   "metadata": {},
   "outputs": [],
   "source": [
    "df_en_highimpact.to_csv('highimpact.csv')"
   ]
  },
  {
   "cell_type": "markdown",
   "id": "49d2eddb",
   "metadata": {},
   "source": [
    "## Topic modeling for high impact tweets "
   ]
  },
  {
   "cell_type": "code",
   "execution_count": 41,
   "id": "f2d5a511",
   "metadata": {},
   "outputs": [],
   "source": [
    "import gensim\n",
    "#from gensim.utils import simple_preprocess\n",
    "# NLTK Stop words\n",
    "from nltk.corpus import stopwords\n",
    "stop_words = stopwords.words('english')\n",
    "import spacy\n",
    "import gensim.corpora as corpora"
   ]
  },
  {
   "cell_type": "code",
   "execution_count": 42,
   "id": "8d43844c",
   "metadata": {},
   "outputs": [],
   "source": [
    "# clean_text takes in a pd.Series and removes special characters, stopwords, etc\n",
    "def clean_text_nltk(pd_column):\n",
    "    stop_words = list(set(stopwords.words('english')))  #use nltk stopwords\n",
    "    clean = []\n",
    "    for i in pd_column:\n",
    "        i = i.lower()  #turn to lower case\n",
    "        #print(i)\n",
    "    \n",
    "        #preprocess to split the words\n",
    "        #re.split() has problem with '-' if no space between words, so first do i.split('-')\n",
    "        i = i.split('-')\n",
    "        i = ' '.join(i)\n",
    "        i = i.split()\n",
    "        #print(i)\n",
    "    \n",
    "        split_sent2 = []\n",
    "        \n",
    "        #remove stopwords and special characters\n",
    "        for word in i:\n",
    "            \n",
    "            new_word = []\n",
    "            if word not in stop_words and word[0]!='@' and word[0:4] != 'http' and word[0]!='#':\n",
    "            #check each word to remove stop words, @username, website, hash-tag\n",
    "\n",
    "                for letter in word:  #check each letter in word to remove special characters\n",
    "                    if letter.isalpha(): #or letter.isdigit():\n",
    "                        new_word.append(letter)\n",
    "                    else:\n",
    "                        pass\n",
    "                word2 = ''.join(new_word)\n",
    "                #print(word2)\n",
    "                \n",
    "                if word2 in stop_words or len(word2) < 3: #check stopwords again\n",
    "                    pass\n",
    "                else:\n",
    "                    split_sent2.append(word2)\n",
    "            else:\n",
    "                pass\n",
    "            \n",
    "        #print(split_sent2)\n",
    "        \n",
    "        sent2 = ' '.join(split_sent2)\n",
    "        clean.append(sent2)\n",
    "    \n",
    "    #print(clean[0:10])\n",
    "    return(clean)"
   ]
  },
  {
   "cell_type": "code",
   "execution_count": 43,
   "id": "68f1d368",
   "metadata": {},
   "outputs": [],
   "source": [
    "test = clean_text_nltk(df_en_highimpact['Text'])"
   ]
  },
  {
   "cell_type": "code",
   "execution_count": 44,
   "id": "62865f0e",
   "metadata": {},
   "outputs": [
    {
     "data": {
      "text/plain": [
       "['writing sign mostly russian understand frustration anger please dismiss important single act could changing situation ukraine single breath bring house cards',\n",
       " 'question hosting ukraine refugees government pay month whats catch',\n",
       " 'rule wednesday case russia ukraine accusations genocide amid ongoing russian invasion ukraine',\n",
       " 'ending ethanol mandates boost worlds food supply help tackle impending global humanitarian crisis caused putins invasion ukraine',\n",
       " 'ive shocked whats happening ukraine bit paralyzed past week still cant believe heres attempt help bit mint later proceeds donated']"
      ]
     },
     "execution_count": 44,
     "metadata": {},
     "output_type": "execute_result"
    }
   ],
   "source": [
    "test[0:5]"
   ]
  },
  {
   "cell_type": "code",
   "execution_count": 45,
   "id": "e4f96e1b",
   "metadata": {},
   "outputs": [],
   "source": [
    "# Tokenization, input is pd.Series with full sentences\n",
    "from nltk.tokenize import sent_tokenize, word_tokenize\n",
    "\n",
    "def nltk_tokenizer(pd_column):\n",
    "    tokenized = []\n",
    "    for i in pd_column:\n",
    "        word_tokens = word_tokenize(i)\n",
    "        tokenized.append(word_tokens)\n",
    "    return tokenized"
   ]
  },
  {
   "cell_type": "code",
   "execution_count": 46,
   "id": "05da8833",
   "metadata": {},
   "outputs": [
    {
     "data": {
      "text/plain": [
       "0    [writing, sign, mostly, russian, understand, frustration, anger, please, dismiss, important, single, act, could, changing, situation, ukraine, single, breath, bring, house, cards]\n",
       "1                                                                                                           [question, hosting, ukraine, refugees, government, pay, month, whats, catch]\n",
       "2                                                                             [rule, wednesday, case, russia, ukraine, accusations, genocide, amid, ongoing, russian, invasion, ukraine]\n",
       "3                                     [ending, ethanol, mandates, boost, worlds, food, supply, help, tackle, impending, global, humanitarian, crisis, caused, putins, invasion, ukraine]\n",
       "4                                 [ive, shocked, whats, happening, ukraine, bit, paralyzed, past, week, still, cant, believe, heres, attempt, help, bit, mint, later, proceeds, donated]\n",
       "dtype: object"
      ]
     },
     "execution_count": 46,
     "metadata": {},
     "output_type": "execute_result"
    }
   ],
   "source": [
    "df_tokenized = pd.Series(nltk_tokenizer(test))\n",
    "df_tokenized.head()"
   ]
  },
  {
   "cell_type": "code",
   "execution_count": 47,
   "id": "43ceae37",
   "metadata": {},
   "outputs": [
    {
     "name": "stdout",
     "output_type": "stream",
     "text": [
      "['writing', 'sign', 'mostly', 'russian', 'understand', 'frustration', 'anger', 'please', 'dismiss', 'important', 'single', 'act', 'could', 'changing', 'situation', 'ukraine', 'single', 'breath', 'bring', 'house', 'cards']\n"
     ]
    }
   ],
   "source": [
    "# Build the bigram and trigram models\n",
    "bigram = gensim.models.Phrases(df_tokenized, min_count=5, threshold=100) # higher threshold fewer phrases.\n",
    "trigram = gensim.models.Phrases(bigram[df_tokenized], threshold=100)\n",
    "# Faster way to get a sentence clubbed as a trigram/bigram\n",
    "bigram_mod = gensim.models.phrases.Phraser(bigram)\n",
    "trigram_mod = gensim.models.phrases.Phraser(trigram)\n",
    "# See trigram example\n",
    "print(trigram_mod[bigram_mod[df_tokenized[0]]])"
   ]
  },
  {
   "cell_type": "code",
   "execution_count": 48,
   "id": "68c3b1cb",
   "metadata": {},
   "outputs": [],
   "source": [
    "def make_bigrams(texts):\n",
    "    return [bigram_mod[doc] for doc in texts]\n",
    "\n",
    "def make_trigrams(texts):\n",
    "    return [trigram_mod[bigram_mod[doc]] for doc in texts]"
   ]
  },
  {
   "cell_type": "code",
   "execution_count": 49,
   "id": "841fd363",
   "metadata": {},
   "outputs": [
    {
     "name": "stdout",
     "output_type": "stream",
     "text": [
      "[['writing', 'sign', 'mostly', 'russian', 'understand', 'frustration', 'anger', 'please', 'dismiss', 'important', 'single', 'act', 'could', 'changing', 'situation', 'ukraine', 'single', 'breath', 'bring', 'house', 'cards'], ['question', 'hosting', 'ukraine', 'refugees', 'government', 'pay', 'month', 'whats', 'catch'], ['rule', 'wednesday', 'case', 'russia', 'ukraine', 'accusations', 'genocide', 'amid', 'ongoing', 'russian', 'invasion', 'ukraine'], ['ending', 'ethanol', 'mandates', 'boost', 'worlds', 'food', 'supply', 'help', 'tackle', 'impending', 'global', 'humanitarian', 'crisis', 'caused', 'putins', 'invasion', 'ukraine'], ['ive', 'shocked', 'whats_happening', 'ukraine', 'bit', 'paralyzed', 'past', 'week', 'still', 'cant', 'believe', 'heres', 'attempt', 'help', 'bit', 'mint', 'later', 'proceeds_donated']]\n"
     ]
    }
   ],
   "source": [
    "data_words_bigrams = make_bigrams(df_tokenized)\n",
    "print(data_words_bigrams[0:5])"
   ]
  },
  {
   "cell_type": "code",
   "execution_count": 50,
   "id": "589d799d",
   "metadata": {},
   "outputs": [
    {
     "name": "stderr",
     "output_type": "stream",
     "text": [
      "/Users/yiruiguo/opt/anaconda3/lib/python3.9/site-packages/spacy/util.py:877: UserWarning: [W095] Model 'en_core_web_sm' (3.4.1) was trained with spaCy v3.4 and may not be 100% compatible with the current version (3.5.0). If you see errors or degraded performance, download a newer compatible model or retrain your custom model with the current spaCy version. For more details and available updates, run: python -m spacy validate\n",
      "  warnings.warn(warn_msg)\n"
     ]
    }
   ],
   "source": [
    "import spacy\n",
    "nlp = spacy.load('en_core_web_sm')\n",
    "def lemmatization(texts, allowed_postags=['NOUN', 'ADJ', 'VERB', 'ADV']):\n",
    "    \"\"\"https://spacy.io/api/annotation\"\"\"\n",
    "    texts_out = []\n",
    "    for sent in texts:\n",
    "        doc = nlp(\" \".join(sent)) \n",
    "        texts_out.append([token.lemma_ for token in doc if token.pos_ in allowed_postags])\n",
    "    return texts_out\n",
    "\n",
    "data_lemmatized = lemmatization(data_words_bigrams, allowed_postags=['NOUN', 'ADJ', 'VERB', 'ADV'])\n",
    "#print(data_lemmatized)"
   ]
  },
  {
   "cell_type": "code",
   "execution_count": 51,
   "id": "7ddc80e3",
   "metadata": {},
   "outputs": [
    {
     "name": "stdout",
     "output_type": "stream",
     "text": [
      "[[(0, 1), (1, 1), (2, 1), (3, 1), (4, 1), (5, 1), (6, 1), (7, 1), (8, 1), (9, 1), (10, 1), (11, 1), (12, 1), (13, 2), (14, 1), (15, 1), (16, 1), (17, 1)]]\n"
     ]
    }
   ],
   "source": [
    "# Create Dictionary \n",
    "id2word = corpora.Dictionary(data_lemmatized)  \n",
    "# Create Corpus \n",
    "texts = data_lemmatized\n",
    "# Term Document Frequency \n",
    "corpus = [id2word.doc2bow(text) for text in texts]  \n",
    "# View \n",
    "print(corpus[:1])"
   ]
  },
  {
   "cell_type": "code",
   "execution_count": 52,
   "id": "f067c930",
   "metadata": {},
   "outputs": [],
   "source": [
    "lda_model = gensim.models.ldamodel.LdaModel(corpus=corpus,\n",
    "                                           id2word=id2word,\n",
    "                                           num_topics=5, \n",
    "                                           random_state=100)"
   ]
  },
  {
   "cell_type": "code",
   "execution_count": 53,
   "id": "65f1de4d",
   "metadata": {},
   "outputs": [
    {
     "name": "stdout",
     "output_type": "stream",
     "text": [
      "[(0,\n",
      "  '0.032*\"ukraine\" + 0.025*\"russian\" + 0.019*\"kill\" + 0.017*\"ukrainian\" + '\n",
      "  '0.012*\"war\" + 0.011*\"people\" + 0.010*\"today\" + 0.009*\"soldier\" + '\n",
      "  '0.008*\"civilian\" + 0.007*\"say\"'),\n",
      " (1,\n",
      "  '0.042*\"ukraine\" + 0.030*\"russian\" + 0.022*\"military\" + 0.020*\"say\" + '\n",
      "  '0.018*\"invasion\" + 0.012*\"weapon\" + 0.010*\"war\" + 0.007*\"aid\" + '\n",
      "  '0.007*\"official\" + 0.007*\"attack\"'),\n",
      " (2,\n",
      "  '0.032*\"ukraine\" + 0.012*\"people\" + 0.012*\"ukrainian\" + 0.012*\"help\" + '\n",
      "  '0.010*\"get\" + 0.009*\"world\" + 0.009*\"talk\" + 0.009*\"refugee\" + '\n",
      "  '0.008*\"peace\" + 0.008*\"war\"'),\n",
      " (3,\n",
      "  '0.025*\"ukraine\" + 0.013*\"russian\" + 0.010*\"war\" + 0.008*\"give\" + '\n",
      "  '0.008*\"well\" + 0.008*\"send\" + 0.007*\"s\" + 0.007*\"people\" + 0.007*\"still\" + '\n",
      "  '0.006*\"say\"'),\n",
      " (4,\n",
      "  '0.034*\"ukraine\" + 0.017*\"war\" + 0.010*\"amp\" + 0.010*\"people\" + '\n",
      "  '0.009*\"country\" + 0.008*\"make\" + 0.007*\"support\" + 0.007*\"invasion\" + '\n",
      "  '0.007*\"know\" + 0.006*\"go\"')]\n"
     ]
    }
   ],
   "source": [
    "from pprint import pprint\n",
    "pprint(lda_model.print_topics())\n",
    "doc_lda = lda_model[corpus]"
   ]
  },
  {
   "cell_type": "code",
   "execution_count": 54,
   "id": "3c228ebb",
   "metadata": {},
   "outputs": [],
   "source": [
    "lda_model2 = gensim.models.ldamodel.LdaModel(corpus=corpus,\n",
    "                                           id2word=id2word,\n",
    "                                           num_topics=10, \n",
    "                                           random_state=100)"
   ]
  },
  {
   "cell_type": "code",
   "execution_count": 56,
   "id": "75f140ed",
   "metadata": {},
   "outputs": [],
   "source": [
    "lda_model3 = gensim.models.ldamodel.LdaModel(corpus=corpus,\n",
    "                                           id2word=id2word,\n",
    "                                           num_topics=7, \n",
    "                                           random_state=100)"
   ]
  },
  {
   "cell_type": "code",
   "execution_count": 61,
   "id": "f8cd8d6d",
   "metadata": {},
   "outputs": [
    {
     "data": {
      "text/plain": [
       "['write sign mostly russian understand frustration anger dismiss important single act change situation ukraine single breath bring house card',\n",
       " 'question host ukraine refugee government pay month s catch',\n",
       " 'rule case accusation genocide ongoing russian invasion ukraine',\n",
       " 'end ethanol mandate boost world food supply help tackle impend global humanitarian crisis cause putin invasion ukraine',\n",
       " 'shock whats_happene ukraine bit paralyze week still believe here attempt help bit mint later proceeds_donate']"
      ]
     },
     "execution_count": 61,
     "metadata": {},
     "output_type": "execute_result"
    }
   ],
   "source": [
    "lemmatized_tweets = []\n",
    "for ls in data_lemmatized:\n",
    "    tweet = ' '.join(ls)\n",
    "    lemmatized_tweets.append(tweet)\n",
    "\n",
    "lemmatized_tweets[0:5]"
   ]
  },
  {
   "cell_type": "code",
   "execution_count": 62,
   "id": "ba64f95d",
   "metadata": {},
   "outputs": [],
   "source": [
    "from sklearn.feature_extraction.text import TfidfVectorizer\n",
    "tfidf = TfidfVectorizer(max_df=0.95, min_df=2, stop_words='english')\n",
    "dtm = tfidf.fit_transform(lemmatized_tweets)"
   ]
  },
  {
   "cell_type": "code",
   "execution_count": 63,
   "id": "d2563fe1",
   "metadata": {},
   "outputs": [
    {
     "name": "stderr",
     "output_type": "stream",
     "text": [
      "/Users/yiruiguo/opt/anaconda3/lib/python3.9/site-packages/sklearn/decomposition/_nmf.py:289: FutureWarning: The 'init' value, when 'init=None' and n_components is less than n_samples and n_features, will be changed from 'nndsvd' to 'nndsvda' in 1.1 (renaming of 0.26).\n",
      "  warnings.warn(\n"
     ]
    },
    {
     "data": {
      "text/plain": [
       "'damaging'"
      ]
     },
     "execution_count": 63,
     "metadata": {},
     "output_type": "execute_result"
    }
   ],
   "source": [
    "from sklearn.decomposition import NMF\n",
    "nmf_model = NMF(n_components=5,random_state=42) #choosing 5 topics\n",
    "nmf_model.fit(dtm)\n",
    "tfidf.get_feature_names_out()[2400]"
   ]
  },
  {
   "cell_type": "code",
   "execution_count": 64,
   "id": "7bb77fd1",
   "metadata": {},
   "outputs": [
    {
     "name": "stdout",
     "output_type": "stream",
     "text": [
      "THE TOP 20 WORDS FOR TOPIC #0\n",
      "['situation', 'pray', 'challenge', 'glory', 'vote', 'military', 'refugee', 'russia', 'weapon', 'send', 'russias', 'invade', 'fight', 'assistance', 'help', 'aid', 'support', 'stand', 'invasion', 'ukraine']\n",
      "\n",
      "\n",
      "THE TOP 20 WORDS FOR TOPIC #1\n",
      "['video', 'day', 'use', 'tank', 'target', 'army', 'report', 'capture', 'destroy', 'strike', 'city', 'missile', 'soldier', 'troop', 'attack', 'military', 'ukrainian', 'force', 'invasion', 'russian']\n",
      "\n",
      "\n",
      "THE TOP 20 WORDS FOR TOPIC #2\n",
      "['time', 'day', 'come', 'end', 'refugee', 'fight', 'know', 'make', 'ukrainian', 'want', 'need', 'think', 'country', 'stop', 'world', 'amp', 'support', 'help', 'people', 'war']\n",
      "\n",
      "\n",
      "THE TOP 20 WORDS FOR TOPIC #3\n",
      "['country', 'report', 'western', 'break', 'strike', 'base', 'help', 'economic', 'attack', 'ask', 'trump', 'invade', 'equipment', 'weapon', 'assistance', 'talk', 'aid', 'official', 'military', 'say']\n",
      "\n",
      "\n",
      "THE TOP 20 WORDS FOR TOPIC #4\n",
      "['american', 'kyiv', 'brent_renaud', 'today', 'police', 'journalist_brent', 'shot', 'people', 'award_winne', 'filmmaker', 'wound', 'civilian', 'child', 'renaud', 'report', 'force', 'injure', 'american_journalist', 'journalist', 'kill']\n",
      "\n",
      "\n"
     ]
    }
   ],
   "source": [
    "topic_lists = []\n",
    "for index,topic in enumerate(nmf_model.components_):\n",
    "    print(f'THE TOP 20 WORDS FOR TOPIC #{index}')\n",
    "    topic_list=[tfidf.get_feature_names_out()[i] for i in topic.argsort()[-20:]]\n",
    "    print([tfidf.get_feature_names_out()[i] for i in topic.argsort()[-20:]])\n",
    "    topic_lists.append(topic_list)\n",
    "    print('\\n')"
   ]
  },
  {
   "cell_type": "code",
   "execution_count": 65,
   "id": "fc682cab",
   "metadata": {},
   "outputs": [],
   "source": [
    "topic_list1 = topic_lists[0]\n",
    "topic_list2 = topic_lists[1]\n",
    "topic_list3 = topic_lists[2]\n",
    "topic_list4 = topic_lists[3]\n",
    "topic_list5 = topic_lists[4]"
   ]
  },
  {
   "cell_type": "code",
   "execution_count": 66,
   "id": "e4ceb293",
   "metadata": {},
   "outputs": [
    {
     "data": {
      "text/plain": [
       "set()"
      ]
     },
     "execution_count": 66,
     "metadata": {},
     "output_type": "execute_result"
    }
   ],
   "source": [
    "set(topic_list1)&set(topic_list2)&set(topic_list3)&set(topic_list4)&set(topic_list5)"
   ]
  },
  {
   "cell_type": "code",
   "execution_count": 67,
   "id": "b8ab79ff",
   "metadata": {},
   "outputs": [],
   "source": [
    "topic_results = nmf_model.transform(dtm)\n",
    "df_en_highimpact['Topic'] = topic_results.argmax(axis=1)"
   ]
  },
  {
   "cell_type": "code",
   "execution_count": 69,
   "id": "61869b1b",
   "metadata": {},
   "outputs": [],
   "source": [
    "mytopic_dict = {0:'War cause',1:'Millitary progress',2:'Refugee and human rights',\n",
    "                3:'Economic impact of the war',4:'News and journalism in war'}\n",
    "df_en_highimpact['Topic Label'] = df_en_highimpact['Topic'].map(mytopic_dict)"
   ]
  },
  {
   "cell_type": "code",
   "execution_count": 71,
   "id": "cc379221",
   "metadata": {},
   "outputs": [
    {
     "data": {
      "text/plain": [
       "2    17374\n",
       "0     6610\n",
       "1     6538\n",
       "3     3701\n",
       "4     2056\n",
       "Name: Topic, dtype: int64"
      ]
     },
     "execution_count": 71,
     "metadata": {},
     "output_type": "execute_result"
    }
   ],
   "source": [
    "df_en_highimpact['Topic'].value_counts()"
   ]
  },
  {
   "cell_type": "code",
   "execution_count": 72,
   "id": "e80e0d4b",
   "metadata": {},
   "outputs": [],
   "source": [
    "df_en_highimpact.to_csv('highimpact_nmf.csv')"
   ]
  },
  {
   "cell_type": "markdown",
   "id": "27220f0f",
   "metadata": {},
   "source": [
    "## Sentiment analysis for high impact tweets"
   ]
  },
  {
   "cell_type": "code",
   "execution_count": 73,
   "id": "d4c21bfd",
   "metadata": {
    "scrolled": true
   },
   "outputs": [],
   "source": [
    "# Import SentimentIntensityAnalyzer and create an sid object\n",
    "import nltk\n",
    "from nltk.sentiment.vader import SentimentIntensityAnalyzer\n",
    "\n",
    "#nltk.download('vader_lexicon')\n",
    "sid = SentimentIntensityAnalyzer()"
   ]
  },
  {
   "cell_type": "code",
   "execution_count": 74,
   "id": "86bc0b84",
   "metadata": {},
   "outputs": [],
   "source": [
    "def sentiment_rating(string):\n",
    "    sid_dict = sid.polarity_scores(string)\n",
    "    if sid_dict['compound']>= 0.33:\n",
    "        return ('Positive')\n",
    "    elif sid_dict['compound']<= -0.33:\n",
    "        return ('Negative')\n",
    "    elif sid_dict['compound'] > -0.33 and sid_dict['compound'] < 0.33:\n",
    "        return('Neutral')\n",
    "    else:\n",
    "        return('Score out of range')\n",
    "\n",
    "sentiment_nltk = []\n",
    "for tweet in df_en_highimpact['Text']:\n",
    "    sid_dict = sentiment_rating(tweet)\n",
    "    sentiment_nltk.append(sid_dict)\n",
    "\n",
    "df_en_highimpact['sentiment_nltk'] = sentiment_nltk\n",
    "#df_en_highimpact['sentiment_rating'] = sentimen"
   ]
  },
  {
   "cell_type": "code",
   "execution_count": 75,
   "id": "08b7aa6a",
   "metadata": {},
   "outputs": [
    {
     "data": {
      "text/plain": [
       "Negative    15210\n",
       "Neutral     12316\n",
       "Positive     8753\n",
       "Name: sentiment_nltk, dtype: int64"
      ]
     },
     "execution_count": 75,
     "metadata": {},
     "output_type": "execute_result"
    }
   ],
   "source": [
    "df_en_highimpact['sentiment_nltk'].value_counts()"
   ]
  },
  {
   "cell_type": "markdown",
   "id": "88357f0e",
   "metadata": {},
   "source": [
    "## Sentiment analysis for Russia location tweets"
   ]
  },
  {
   "cell_type": "code",
   "execution_count": 78,
   "id": "d0056a5e",
   "metadata": {},
   "outputs": [],
   "source": [
    "def sentiment_rating(string):\n",
    "    sid_dict = sid.polarity_scores(string)\n",
    "    if sid_dict['compound']>= 0.33:\n",
    "        return ('Positive')\n",
    "    elif sid_dict['compound']<= -0.33:\n",
    "        return ('Negative')\n",
    "    elif sid_dict['compound'] > -0.33 and sid_dict['compound'] < 0.33:\n",
    "        return('Neutral')\n",
    "    else:\n",
    "        return('Score out of range')\n",
    "    \n",
    "sentiment_nltk = []\n",
    "for tweet in df_russia_en['Text']:\n",
    "    sid_dict = sentiment_rating(tweet)\n",
    "    sentiment_nltk.append(sid_dict)\n",
    "\n",
    "\n",
    "df_russia_en['sentiment_nltk'] = sentiment_nltk"
   ]
  },
  {
   "cell_type": "code",
   "execution_count": 79,
   "id": "d603786d",
   "metadata": {},
   "outputs": [
    {
     "data": {
      "text/plain": [
       "Negative    337\n",
       "Neutral     249\n",
       "Positive    158\n",
       "Name: sentiment_nltk, dtype: int64"
      ]
     },
     "execution_count": 79,
     "metadata": {},
     "output_type": "execute_result"
    }
   ],
   "source": [
    "df_russia_en.sentiment_nltk.value_counts()"
   ]
  },
  {
   "cell_type": "code",
   "execution_count": 80,
   "id": "adb7b069",
   "metadata": {},
   "outputs": [],
   "source": [
    "sentiment_nltk = []\n",
    "for tweet in df_russia_en['Text']:\n",
    "    sid_dict = sentiment_rating(tweet)\n",
    "    sentiment_nltk.append(sid_dict)\n",
    "\n",
    "df_russia_en['sentiment_rating'] = sentiment_nltk"
   ]
  },
  {
   "cell_type": "code",
   "execution_count": 81,
   "id": "0f025345",
   "metadata": {
    "scrolled": true
   },
   "outputs": [
    {
     "data": {
      "text/plain": [
       "Negative    337\n",
       "Neutral     249\n",
       "Positive    158\n",
       "Name: sentiment_rating, dtype: int64"
      ]
     },
     "execution_count": 81,
     "metadata": {},
     "output_type": "execute_result"
    }
   ],
   "source": [
    "df_russia_en.sentiment_rating.value_counts()"
   ]
  },
  {
   "cell_type": "markdown",
   "id": "4de087bf",
   "metadata": {},
   "source": [
    "## Sentiment analysis for Ukraine location tweets"
   ]
  },
  {
   "cell_type": "code",
   "execution_count": 85,
   "id": "cb55e31b",
   "metadata": {},
   "outputs": [],
   "source": [
    "def sentiment_rating(string):\n",
    "    sid_dict = sid.polarity_scores(string)\n",
    "    if sid_dict['compound']>= 0.33:\n",
    "        return ('Positive')\n",
    "    elif sid_dict['compound']<= -0.33:\n",
    "        return ('Negative')\n",
    "    elif sid_dict['compound'] > -0.33 and sid_dict['compound'] < 0.33:\n",
    "        return('Neutral')\n",
    "    else:\n",
    "        return('Score out of range')\n",
    "    \n",
    "sentiment_nltk = []\n",
    "for tweet in df_ukraine_en['Text']:\n",
    "    sid_dict = sentiment_rating(tweet)\n",
    "    sentiment_nltk.append(sid_dict)\n",
    "\n",
    "\n",
    "df_ukraine_en['sentiment_nltk'] = sentiment_nltk"
   ]
  },
  {
   "cell_type": "code",
   "execution_count": 86,
   "id": "94d6fc08",
   "metadata": {},
   "outputs": [
    {
     "data": {
      "text/plain": [
       "Negative    3058\n",
       "Neutral     2341\n",
       "Positive    1688\n",
       "Name: sentiment_nltk, dtype: int64"
      ]
     },
     "execution_count": 86,
     "metadata": {},
     "output_type": "execute_result"
    }
   ],
   "source": [
    "df_ukraine_en.sentiment_nltk.value_counts()"
   ]
  },
  {
   "cell_type": "code",
   "execution_count": null,
   "id": "bf9bffdc",
   "metadata": {},
   "outputs": [],
   "source": []
  }
 ],
 "metadata": {
  "kernelspec": {
   "display_name": "Python 3 (ipykernel)",
   "language": "python",
   "name": "python3"
  },
  "language_info": {
   "codemirror_mode": {
    "name": "ipython",
    "version": 3
   },
   "file_extension": ".py",
   "mimetype": "text/x-python",
   "name": "python",
   "nbconvert_exporter": "python",
   "pygments_lexer": "ipython3",
   "version": "3.9.13"
  }
 },
 "nbformat": 4,
 "nbformat_minor": 5
}
